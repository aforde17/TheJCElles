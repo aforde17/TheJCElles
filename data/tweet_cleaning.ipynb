{
 "cells": [
  {
   "cell_type": "code",
   "execution_count": 69,
   "metadata": {},
   "outputs": [],
   "source": [
    "import pandas as pd\n",
    "import os\n",
    "import matplotlib.pylab as plt\n",
    "from vaderSentiment.vaderSentiment import SentimentIntensityAnalyzer\n",
    "from pathlib import Path\n",
    "from datetime import datetime\n"
   ]
  },
  {
   "cell_type": "code",
   "execution_count": 2,
   "metadata": {},
   "outputs": [
    {
     "name": "stdout",
     "output_type": "stream",
     "text": [
      "/home/aforde/capp30254/capp30254/TheJCElles/data\n"
     ]
    }
   ],
   "source": [
    "data = Path(os.getcwd())\n",
    "print(data)"
   ]
  },
  {
   "cell_type": "code",
   "execution_count": 37,
   "metadata": {},
   "outputs": [],
   "source": [
    "# Loading in the tweet data\n",
    "tweets = pd.read_csv(data.joinpath(\"covid19_tweets.csv\"))"
   ]
  },
  {
   "cell_type": "code",
   "execution_count": 52,
   "metadata": {},
   "outputs": [],
   "source": [
    "# Removing unnecessary columns\n",
    "tweets = tweets.filter([\"date\", \"text\", \"hashtags\", \"is_retweet\"])\n",
    "\n",
    "# Change date times to dates\n",
    "tweets[\"date\"] = pd.to_datetime(tweets[\"date\"]).dt.date\n",
    "tweets.sort_values(by='date')"
   ]
  },
  {
   "cell_type": "code",
   "execution_count": 28,
   "metadata": {},
   "outputs": [
    {
     "name": "stdout",
     "output_type": "stream",
     "text": [
      "6234\n"
     ]
    }
   ],
   "source": [
    "#Filtering by key word (masks in particular)\n",
    "\n",
    "keyword = [\"mask\", \"masks\"]\n",
    "num_of_tweets = []\n",
    "\n",
    "for num, tweet in enumerate(tweets.text):\n",
    "    for word in keyword:\n",
    "        if word in tweet and num not in num_of_tweets:\n",
    "            num_of_tweets.append(num)\n",
    "\n",
    "print(len(num_of_tweets))\n",
    "    "
   ]
  },
  {
   "cell_type": "code",
   "execution_count": 23,
   "metadata": {},
   "outputs": [
    {
     "name": "stdout",
     "output_type": "stream",
     "text": [
      "0.0\n",
      "0.4576\n",
      "0.5994\n",
      "0.3612\n",
      "0.0\n",
      "0.2732\n",
      "-0.296\n",
      "-0.296\n",
      "-0.625\n",
      "0.6523\n"
     ]
    }
   ],
   "source": [
    "# Testing VADER algorithm\n",
    "test_tweets = num_of_tweets[:10]\n",
    "\n",
    "analyzer = SentimentIntensityAnalyzer()\n",
    "for sentence in test_tweets:\n",
    "    vs = analyzer.polarity_scores(sentence)\n",
    "    print(vs['compound'])\n",
    "\n",
    "\n",
    "# positive sentiment: compound score >= 0.05\n",
    "# neutral sentiment: (compound score > -0.05) and (compound score < 0.05)\n",
    "# negative sentiment: compound score <= -0.05\n"
   ]
  },
  {
   "cell_type": "code",
   "execution_count": 54,
   "metadata": {},
   "outputs": [
    {
     "name": "stderr",
     "output_type": "stream",
     "text": [
      "<ipython-input-54-ef300c9d2d6f>:3: SettingWithCopyWarning: \n",
      "A value is trying to be set on a copy of a slice from a DataFrame.\n",
      "Try using .loc[row_indexer,col_indexer] = value instead\n",
      "\n",
      "See the caveats in the documentation: https://pandas.pydata.org/pandas-docs/stable/user_guide/indexing.html#returning-a-view-versus-a-copy\n",
      "  mask_tweets['sentiment'] = \"\"\n",
      "<ipython-input-54-ef300c9d2d6f>:4: SettingWithCopyWarning: \n",
      "A value is trying to be set on a copy of a slice from a DataFrame.\n",
      "Try using .loc[row_indexer,col_indexer] = value instead\n",
      "\n",
      "See the caveats in the documentation: https://pandas.pydata.org/pandas-docs/stable/user_guide/indexing.html#returning-a-view-versus-a-copy\n",
      "  mask_tweets['sentiment_val'] = \"\"\n"
     ]
    },
    {
     "data": {
      "text/html": [
       "<div>\n",
       "<style scoped>\n",
       "    .dataframe tbody tr th:only-of-type {\n",
       "        vertical-align: middle;\n",
       "    }\n",
       "\n",
       "    .dataframe tbody tr th {\n",
       "        vertical-align: top;\n",
       "    }\n",
       "\n",
       "    .dataframe thead th {\n",
       "        text-align: right;\n",
       "    }\n",
       "</style>\n",
       "<table border=\"1\" class=\"dataframe\">\n",
       "  <thead>\n",
       "    <tr style=\"text-align: right;\">\n",
       "      <th></th>\n",
       "      <th>date</th>\n",
       "      <th>text</th>\n",
       "      <th>hashtags</th>\n",
       "      <th>is_retweet</th>\n",
       "      <th>sentiment</th>\n",
       "      <th>sentiment_val</th>\n",
       "    </tr>\n",
       "  </thead>\n",
       "  <tbody>\n",
       "    <tr>\n",
       "      <th>25</th>\n",
       "      <td>2020-07-25</td>\n",
       "      <td>#Kolar\\nNeed #Blood Type :  B-positive\\nAt : J...</td>\n",
       "      <td>['Kolar', 'Blood', 'COVID19']</td>\n",
       "      <td>False</td>\n",
       "      <td></td>\n",
       "      <td></td>\n",
       "    </tr>\n",
       "    <tr>\n",
       "      <th>59</th>\n",
       "      <td>2020-07-25</td>\n",
       "      <td>US #CoronaVirus: 4,249,584 cases and 148,521 d...</td>\n",
       "      <td>['CoronaVirus']</td>\n",
       "      <td>False</td>\n",
       "      <td></td>\n",
       "      <td></td>\n",
       "    </tr>\n",
       "    <tr>\n",
       "      <th>70</th>\n",
       "      <td>2020-07-25</td>\n",
       "      <td>Concealed Nation 1 Million Giveaway https://t....</td>\n",
       "      <td>NaN</td>\n",
       "      <td>False</td>\n",
       "      <td></td>\n",
       "      <td></td>\n",
       "    </tr>\n",
       "    <tr>\n",
       "      <th>140</th>\n",
       "      <td>2020-07-25</td>\n",
       "      <td>@princesscaro85 @NVGOP @marquezjesso @andyluke...</td>\n",
       "      <td>NaN</td>\n",
       "      <td>False</td>\n",
       "      <td></td>\n",
       "      <td></td>\n",
       "    </tr>\n",
       "    <tr>\n",
       "      <th>146</th>\n",
       "      <td>2020-07-25</td>\n",
       "      <td>We provided a North Devon tourist attraction w...</td>\n",
       "      <td>['twowayradio', 'COVID19']</td>\n",
       "      <td>False</td>\n",
       "      <td></td>\n",
       "      <td></td>\n",
       "    </tr>\n",
       "  </tbody>\n",
       "</table>\n",
       "</div>"
      ],
      "text/plain": [
       "           date                                               text  \\\n",
       "25   2020-07-25  #Kolar\\nNeed #Blood Type :  B-positive\\nAt : J...   \n",
       "59   2020-07-25  US #CoronaVirus: 4,249,584 cases and 148,521 d...   \n",
       "70   2020-07-25  Concealed Nation 1 Million Giveaway https://t....   \n",
       "140  2020-07-25  @princesscaro85 @NVGOP @marquezjesso @andyluke...   \n",
       "146  2020-07-25  We provided a North Devon tourist attraction w...   \n",
       "\n",
       "                          hashtags  is_retweet sentiment sentiment_val  \n",
       "25   ['Kolar', 'Blood', 'COVID19']       False                          \n",
       "59                 ['CoronaVirus']       False                          \n",
       "70                             NaN       False                          \n",
       "140                            NaN       False                          \n",
       "146     ['twowayradio', 'COVID19']       False                          "
      ]
     },
     "execution_count": 54,
     "metadata": {},
     "output_type": "execute_result"
    }
   ],
   "source": [
    "# Filtering down to tweets reference masks, mask\n",
    "mask_tweets = tweets.iloc[num_of_tweets]\n",
    "mask_tweets['sentiment'] = \"\"\n",
    "mask_tweets['sentiment_val'] = \"\"\n",
    "\n",
    "mask_tweets.head()"
   ]
  },
  {
   "cell_type": "code",
   "execution_count": 55,
   "metadata": {},
   "outputs": [],
   "source": [
    "\n",
    "for ind, sentence in enumerate(mask_tweets['text']):\n",
    "    compound = analyzer.polarity_scores(sentence)['compound']\n",
    "    mask_tweets.iloc[ind, 5] = compound\n",
    "    if compound >= 0.05:\n",
    "        mask_tweets.iloc[ind, 4] = 'positive'\n",
    "    elif compound > -0.05 and compound < 0.05:\n",
    "        mask_tweets.iloc[ind, 4] = 'neutral'\n",
    "    else:\n",
    "        mask_tweets.iloc[ind, 4]= 'negative'\n"
   ]
  },
  {
   "cell_type": "code",
   "execution_count": 94,
   "metadata": {},
   "outputs": [
    {
     "data": {
      "text/html": [
       "<div>\n",
       "<style scoped>\n",
       "    .dataframe tbody tr th:only-of-type {\n",
       "        vertical-align: middle;\n",
       "    }\n",
       "\n",
       "    .dataframe tbody tr th {\n",
       "        vertical-align: top;\n",
       "    }\n",
       "\n",
       "    .dataframe thead th {\n",
       "        text-align: right;\n",
       "    }\n",
       "</style>\n",
       "<table border=\"1\" class=\"dataframe\">\n",
       "  <thead>\n",
       "    <tr style=\"text-align: right;\">\n",
       "      <th></th>\n",
       "      <th>date</th>\n",
       "      <th>sentiment</th>\n",
       "      <th>text</th>\n",
       "      <th>percent</th>\n",
       "    </tr>\n",
       "  </thead>\n",
       "  <tbody>\n",
       "    <tr>\n",
       "      <th>0</th>\n",
       "      <td>2020-07-24</td>\n",
       "      <td>negative</td>\n",
       "      <td>7</td>\n",
       "      <td>0.411765</td>\n",
       "    </tr>\n",
       "    <tr>\n",
       "      <th>1</th>\n",
       "      <td>2020-07-24</td>\n",
       "      <td>neutral</td>\n",
       "      <td>4</td>\n",
       "      <td>0.235294</td>\n",
       "    </tr>\n",
       "    <tr>\n",
       "      <th>2</th>\n",
       "      <td>2020-07-24</td>\n",
       "      <td>positive</td>\n",
       "      <td>6</td>\n",
       "      <td>0.352941</td>\n",
       "    </tr>\n",
       "    <tr>\n",
       "      <th>3</th>\n",
       "      <td>2020-07-25</td>\n",
       "      <td>negative</td>\n",
       "      <td>211</td>\n",
       "      <td>0.290234</td>\n",
       "    </tr>\n",
       "    <tr>\n",
       "      <th>4</th>\n",
       "      <td>2020-07-25</td>\n",
       "      <td>neutral</td>\n",
       "      <td>247</td>\n",
       "      <td>0.339752</td>\n",
       "    </tr>\n",
       "  </tbody>\n",
       "</table>\n",
       "</div>"
      ],
      "text/plain": [
       "         date sentiment  text   percent\n",
       "0  2020-07-24  negative     7  0.411765\n",
       "1  2020-07-24   neutral     4  0.235294\n",
       "2  2020-07-24  positive     6  0.352941\n",
       "3  2020-07-25  negative   211  0.290234\n",
       "4  2020-07-25   neutral   247  0.339752"
      ]
     },
     "execution_count": 94,
     "metadata": {},
     "output_type": "execute_result"
    }
   ],
   "source": [
    "# Group by and Percentage Calculation for plotting\n",
    "chart_data = mask_tweets.groupby(['date', 'sentiment'])['text'].count().reset_index()\n",
    "\n",
    "chart_data['percent'] = chart_data['text'].div(chart_data.groupby(['date'])['text'].transform(lambda x: x.sum()))\n",
    "\n"
   ]
  },
  {
   "cell_type": "code",
   "execution_count": 96,
   "metadata": {},
   "outputs": [
    {
     "name": "stderr",
     "output_type": "stream",
     "text": [
      "/usr/lib/python3/dist-packages/matplotlib/cbook/__init__.py:1402: FutureWarning: Support for multi-dimensional indexing (e.g. `obj[:, None]`) is deprecated and will be removed in a future version.  Convert to a numpy array before indexing instead.\n",
      "  ndim = x[:, None].ndim\n",
      "/usr/lib/python3/dist-packages/matplotlib/axes/_base.py:276: FutureWarning: Support for multi-dimensional indexing (e.g. `obj[:, None]`) is deprecated and will be removed in a future version.  Convert to a numpy array before indexing instead.\n",
      "  x = x[:, np.newaxis]\n",
      "/usr/lib/python3/dist-packages/matplotlib/axes/_base.py:278: FutureWarning: Support for multi-dimensional indexing (e.g. `obj[:, None]`) is deprecated and will be removed in a future version.  Convert to a numpy array before indexing instead.\n",
      "  y = y[:, np.newaxis]\n"
     ]
    },
    {
     "data": {
      "text/plain": [
       "<function matplotlib.pyplot.show(*args, **kw)>"
      ]
     },
     "execution_count": 96,
     "metadata": {},
     "output_type": "execute_result"
    },
    {
     "data": {
      "image/png": "[encoded data removed]",
      "text/plain": [
       "<Figure size 864x576 with 1 Axes>"
      ]
     },
     "metadata": {
      "needs_background": "light"
     },
     "output_type": "display_data"
    }
   ],
   "source": [
    "# Plotting\n",
    "colors = colors = ['r', 'b', 'g']\n",
    "fig, ax = plt.subplots(nrows=1, ncols=1, figsize=(12,8))\n",
    "for ind, label_ in enumerate(chart_data.sentiment.unique()):\n",
    "    plot_data = chart_data[chart_data['sentiment']==label_]\n",
    "    plt.plot(plot_data['date'], plot_data['percent'], color = colors[ind], label = label_)\n",
    "\n",
    "ax.set_xlabel(\"Date\", fontsize=16)\n",
    "ax.set_ylabel(\"Percentage of Tweets\", fontsize=16)\n",
    "ax.legend(loc=\"lower right\", fontsize=16)\n",
    "plt.show"
   ]
  }
 ],
 "metadata": {
  "interpreter": {
   "hash": "916dbcbb3f70747c44a77c7bcd40155683ae19c65e1c03b4aa3499c5328201f1"
  },
  "kernelspec": {
   "display_name": "Python 3.8.5 64-bit",
   "language": "python",
   "name": "python3"
  },
  "language_info": {
   "codemirror_mode": {
    "name": "ipython",
    "version": 3
   },
   "file_extension": ".py",
   "mimetype": "text/x-python",
   "name": "python",
   "nbconvert_exporter": "python",
   "pygments_lexer": "ipython3",
   "version": "3.8.5"
  },
  "orig_nbformat": 4
 },
 "nbformat": 4,
 "nbformat_minor": 2
}
